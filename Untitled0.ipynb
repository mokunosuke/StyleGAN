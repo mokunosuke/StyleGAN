{
  "nbformat": 4,
  "nbformat_minor": 0,
  "metadata": {
    "colab": {
      "name": "Untitled0.ipynb",
      "provenance": [],
      "collapsed_sections": [],
      "authorship_tag": "ABX9TyMMWnRRraj1gVHhMcdmsH6j",
      "include_colab_link": true
    },
    "kernelspec": {
      "name": "python3",
      "display_name": "Python 3"
    },
    "language_info": {
      "name": "python"
    },
    "accelerator": "GPU",
    "gpuClass": "standard"
  },
  "cells": [
    {
      "cell_type": "markdown",
      "metadata": {
        "id": "view-in-github",
        "colab_type": "text"
      },
      "source": [
        "<a href=\"https://colab.research.google.com/github/mokunosuke/StyleGAN/blob/main/Untitled0.ipynb\" target=\"_parent\"><img src=\"https://colab.research.google.com/assets/colab-badge.svg\" alt=\"Open In Colab\"/></a>"
      ]
    },
    {
      "cell_type": "code",
      "execution_count": 3,
      "metadata": {
        "colab": {
          "base_uri": "https://localhost:8080/"
        },
        "id": "MVgo1m_0-rB1",
        "outputId": "413eb430-ff3e-4181-b87c-fcca9675393a"
      },
      "outputs": [
        {
          "output_type": "stream",
          "name": "stdout",
          "text": [
            "Cloning into 'Anime-InPainting'...\n",
            "remote: Enumerating objects: 236, done.\u001b[K\n",
            "remote: Total 236 (delta 0), reused 0 (delta 0), pack-reused 236\u001b[K\n",
            "Receiving objects: 100% (236/236), 5.68 MiB | 11.50 MiB/s, done.\n",
            "Resolving deltas: 100% (113/113), done.\n"
          ]
        }
      ],
      "source": [
        "!git clone https://github.com/youyuge34/Anime-InPainting.git\n"
      ]
    },
    {
      "cell_type": "code",
      "source": [
        "!pwd"
      ],
      "metadata": {
        "colab": {
          "base_uri": "https://localhost:8080/"
        },
        "id": "OTh8pbgT_ALK",
        "outputId": "d886d5b8-277d-429e-ffcb-3f4c4d207ac9"
      },
      "execution_count": 4,
      "outputs": [
        {
          "output_type": "stream",
          "name": "stdout",
          "text": [
            "/content\n"
          ]
        }
      ]
    },
    {
      "cell_type": "code",
      "source": [
        "cd Anime*\n"
      ],
      "metadata": {
        "colab": {
          "base_uri": "https://localhost:8080/"
        },
        "id": "JtAkEl4W_BS6",
        "outputId": "dc12d52c-a449-4de7-ced9-cf88034458c7"
      },
      "execution_count": 5,
      "outputs": [
        {
          "output_type": "stream",
          "name": "stdout",
          "text": [
            "[Errno 2] No such file or directory: 'Anime*'\n",
            "/content\n"
          ]
        }
      ]
    },
    {
      "cell_type": "code",
      "source": [
        "cd Anime-InPainting/"
      ],
      "metadata": {
        "colab": {
          "base_uri": "https://localhost:8080/"
        },
        "id": "chChO-SQ_HbS",
        "outputId": "055f5359-6bfa-4168-95d5-bcb6a5c67684"
      },
      "execution_count": 4,
      "outputs": [
        {
          "output_type": "stream",
          "name": "stdout",
          "text": [
            "/content/Anime-InPainting\n"
          ]
        }
      ]
    },
    {
      "cell_type": "code",
      "source": [
        "!pip install -r requirements.txt\n"
      ],
      "metadata": {
        "colab": {
          "base_uri": "https://localhost:8080/"
        },
        "id": "4N571aeq_PcH",
        "outputId": "5d4c550d-0ca1-4ee9-a1a6-7c88f278621e"
      },
      "execution_count": 5,
      "outputs": [
        {
          "output_type": "stream",
          "name": "stdout",
          "text": [
            "Looking in indexes: https://pypi.org/simple, https://us-python.pkg.dev/colab-wheels/public/simple/\n",
            "Collecting numpy~=1.14.3\n",
            "  Downloading numpy-1.14.6-cp37-cp37m-manylinux1_x86_64.whl (13.8 MB)\n",
            "\u001b[K     |████████████████████████████████| 13.8 MB 22.5 MB/s \n",
            "\u001b[?25hCollecting scipy~=1.0.1\n",
            "  Downloading scipy-1.0.1.tar.gz (15.5 MB)\n",
            "\u001b[K     |████████████████████████████████| 15.5 MB 21.1 MB/s \n",
            "\u001b[?25hRequirement already satisfied: future~=0.16.0 in /usr/local/lib/python3.7/dist-packages (from -r requirements.txt (line 3)) (0.16.0)\n",
            "Collecting matplotlib~=2.2.2\n",
            "  Downloading matplotlib-2.2.5-cp37-cp37m-manylinux1_x86_64.whl (12.8 MB)\n",
            "\u001b[K     |████████████████████████████████| 12.8 MB 26.1 MB/s \n",
            "\u001b[?25hCollecting pillow~=5.0.0\n",
            "  Downloading Pillow-5.0.0.tar.gz (14.2 MB)\n",
            "\u001b[K     |████████████████████████████████| 14.2 MB 19.3 MB/s \n",
            "\u001b[?25hCollecting opencv-python~=3.4.0\n",
            "  Downloading opencv_python-3.4.18.65-cp36-abi3-manylinux_2_17_x86_64.manylinux2014_x86_64.whl (58.4 MB)\n",
            "\u001b[K     |████████████████████████████████| 58.4 MB 1.2 MB/s \n",
            "\u001b[?25hCollecting scikit-image~=0.14.0\n",
            "  Downloading scikit_image-0.14.5-cp37-cp37m-manylinux1_x86_64.whl (25.4 MB)\n",
            "\u001b[K     |████████████████████████████████| 25.4 MB 1.3 MB/s \n",
            "\u001b[?25hCollecting pyaml\n",
            "  Downloading pyaml-21.10.1-py2.py3-none-any.whl (24 kB)\n",
            "Collecting easygui\n",
            "  Downloading easygui-0.98.3-py2.py3-none-any.whl (92 kB)\n",
            "\u001b[K     |████████████████████████████████| 92 kB 915 kB/s \n",
            "\u001b[?25hRequirement already satisfied: pytz in /usr/local/lib/python3.7/dist-packages (from matplotlib~=2.2.2->-r requirements.txt (line 4)) (2022.2.1)\n",
            "Requirement already satisfied: python-dateutil>=2.1 in /usr/local/lib/python3.7/dist-packages (from matplotlib~=2.2.2->-r requirements.txt (line 4)) (2.8.2)\n",
            "Requirement already satisfied: six>=1.10 in /usr/local/lib/python3.7/dist-packages (from matplotlib~=2.2.2->-r requirements.txt (line 4)) (1.15.0)\n",
            "Requirement already satisfied: pyparsing!=2.0.4,!=2.1.2,!=2.1.6,>=2.0.1 in /usr/local/lib/python3.7/dist-packages (from matplotlib~=2.2.2->-r requirements.txt (line 4)) (3.0.9)\n",
            "Requirement already satisfied: kiwisolver>=1.0.1 in /usr/local/lib/python3.7/dist-packages (from matplotlib~=2.2.2->-r requirements.txt (line 4)) (1.4.4)\n",
            "Requirement already satisfied: cycler>=0.10 in /usr/local/lib/python3.7/dist-packages (from matplotlib~=2.2.2->-r requirements.txt (line 4)) (0.11.0)\n",
            "Requirement already satisfied: networkx>=1.8 in /usr/local/lib/python3.7/dist-packages (from scikit-image~=0.14.0->-r requirements.txt (line 7)) (2.6.3)\n",
            "Requirement already satisfied: cloudpickle>=0.2.1 in /usr/local/lib/python3.7/dist-packages (from scikit-image~=0.14.0->-r requirements.txt (line 7)) (1.5.0)\n",
            "Requirement already satisfied: PyWavelets>=0.4.0 in /usr/local/lib/python3.7/dist-packages (from scikit-image~=0.14.0->-r requirements.txt (line 7)) (1.3.0)\n",
            "Requirement already satisfied: typing-extensions in /usr/local/lib/python3.7/dist-packages (from kiwisolver>=1.0.1->matplotlib~=2.2.2->-r requirements.txt (line 4)) (4.1.1)\n",
            "Collecting PyWavelets>=0.4.0\n",
            "  Downloading PyWavelets-1.2.0-cp37-cp37m-manylinux_2_5_x86_64.manylinux1_x86_64.whl (6.1 MB)\n",
            "\u001b[K     |████████████████████████████████| 6.1 MB 33.5 MB/s \n",
            "\u001b[?25h  Downloading PyWavelets-1.1.1-cp37-cp37m-manylinux1_x86_64.whl (4.4 MB)\n",
            "\u001b[K     |████████████████████████████████| 4.4 MB 62.8 MB/s \n",
            "\u001b[?25hRequirement already satisfied: PyYAML in /usr/local/lib/python3.7/dist-packages (from pyaml->-r requirements.txt (line 8)) (6.0)\n",
            "Building wheels for collected packages: scipy, pillow\n",
            "  Building wheel for scipy (setup.py) ... \u001b[?25l\u001b[?25hcanceled\n",
            "\u001b[31mERROR: Operation cancelled by user\u001b[0m\n"
          ]
        }
      ]
    },
    {
      "cell_type": "code",
      "source": [
        "tool_patch.py --path model/getchu/"
      ],
      "metadata": {
        "colab": {
          "base_uri": "https://localhost:8080/",
          "height": 138
        },
        "id": "zZMwEKDn_XQd",
        "outputId": "0d7e98aa-19f9-447f-f099-294caf305cc1"
      },
      "execution_count": 11,
      "outputs": [
        {
          "output_type": "error",
          "ename": "SyntaxError",
          "evalue": "ignored",
          "traceback": [
            "\u001b[0;36m  File \u001b[0;32m\"<ipython-input-11-f4770898629d>\"\u001b[0;36m, line \u001b[0;32m1\u001b[0m\n\u001b[0;31m    tool_patch.py --path model/getchu/\u001b[0m\n\u001b[0m                             ^\u001b[0m\n\u001b[0;31mSyntaxError\u001b[0m\u001b[0;31m:\u001b[0m invalid syntax\n"
          ]
        }
      ]
    },
    {
      "cell_type": "code",
      "source": [
        "!python tool_patch.py --path model/getchu/"
      ],
      "metadata": {
        "colab": {
          "base_uri": "https://localhost:8080/"
        },
        "id": "ASNZxuy2ATMn",
        "outputId": "1ed5522c-769e-4f3e-9a93-fcf2ad24a0aa"
      },
      "execution_count": 21,
      "outputs": [
        {
          "output_type": "stream",
          "name": "stdout",
          "text": [
            "\n",
            "===============================================================================\n",
            "Interactive Image Patching Tool using Edge-Connect algorithm.\n",
            "\n",
            "\n",
            "USAGE:\n",
            "    python tool_patch.py --path <your weights directory path>\n",
            "                         --edge (optional to open edge window)\n",
            "\n",
            "\n",
            "README FIRST:\n",
            "    Two windows will show up, one for input and one for output.\n",
            "    if `--edge` arg is input, another edge window will show up.\n",
            "    [Important] Switch your typewriting into ENG first.\n",
            "\n",
            "    At first, in input window, draw black in the missing part using\n",
            "mouse left button. Then press 'n' to patch the image (once or a few times)\n",
            "For any finer touch-ups, you can press any of the keys below and draw lines on\n",
            "the areas you want. Then again press 'n' for updating the output.\n",
            "    In input window, left mouse is to draw the black mask which means the defect.\n",
            "    In edge window, left mouse is to draw the edge while right mouse is to erase the edges.\n",
            "    Press '[' and ']' to resize the brush thickness, as in PhotoShop.\n",
            "    Finally, press 's' to save the output.\n",
            "\n",
            "Key '[' - To make the brush thickness smaller\n",
            "Key ']' - To make the brush thickness larger\n",
            "Key '0' - Todo\n",
            "Key '1' - Todo\n",
            "\n",
            "Key 'n' - To patch the black part of image, just use input image\n",
            "Key 'e' - To patch the black part of image, use the input image and edit edge\n",
            "Key 'r' - To reset the setup\n",
            "Key 's' - To save the output\n",
            "Key 'q' - To quit\n",
            "===============================================================================\n",
            "\n",
            "Traceback (most recent call last):\n",
            "  File \"tool_patch.py\", line 196, in <module>\n",
            "    config = check_load(args)\n",
            "  File \"tool_patch.py\", line 154, in check_load\n",
            "    config = Config(config_path)\n",
            "  File \"/content/Anime-InPainting/src/config.py\", line 8, in __init__\n",
            "    self._dict = yaml.load(self._yaml)\n",
            "TypeError: load() missing 1 required positional argument: 'Loader'\n"
          ]
        }
      ]
    },
    {
      "cell_type": "code",
      "source": [
        "!pip install pyyaml==5.4.1\n"
      ],
      "metadata": {
        "colab": {
          "base_uri": "https://localhost:8080/"
        },
        "id": "U8So2v6SEP22",
        "outputId": "1fc48e8d-4f65-433f-fe59-1e26e58d8602"
      },
      "execution_count": 7,
      "outputs": [
        {
          "output_type": "stream",
          "name": "stdout",
          "text": [
            "Looking in indexes: https://pypi.org/simple, https://us-python.pkg.dev/colab-wheels/public/simple/\n",
            "Collecting pyyaml==5.4.1\n",
            "  Downloading PyYAML-5.4.1-cp37-cp37m-manylinux1_x86_64.whl (636 kB)\n",
            "\u001b[K     |████████████████████████████████| 636 kB 25.9 MB/s \n",
            "\u001b[?25hInstalling collected packages: pyyaml\n",
            "  Attempting uninstall: pyyaml\n",
            "    Found existing installation: PyYAML 6.0\n",
            "    Uninstalling PyYAML-6.0:\n",
            "      Successfully uninstalled PyYAML-6.0\n",
            "Successfully installed pyyaml-5.4.1\n"
          ]
        }
      ]
    },
    {
      "cell_type": "code",
      "source": [
        "!pip install easygui\n"
      ],
      "metadata": {
        "colab": {
          "base_uri": "https://localhost:8080/"
        },
        "id": "1vKjtp9nCcxY",
        "outputId": "fc6f19f6-b5f8-496c-f68c-3e32bb81e8f3"
      },
      "execution_count": 8,
      "outputs": [
        {
          "output_type": "stream",
          "name": "stdout",
          "text": [
            "Looking in indexes: https://pypi.org/simple, https://us-python.pkg.dev/colab-wheels/public/simple/\n",
            "Collecting easygui\n",
            "  Using cached easygui-0.98.3-py2.py3-none-any.whl (92 kB)\n",
            "Installing collected packages: easygui\n",
            "Successfully installed easygui-0.98.3\n"
          ]
        }
      ]
    },
    {
      "cell_type": "code",
      "source": [
        "!pip install scipy==1.1.0\n"
      ],
      "metadata": {
        "colab": {
          "base_uri": "https://localhost:8080/"
        },
        "id": "N-K90qA8Cyzj",
        "outputId": "2097c2a7-d92f-47af-ea25-7f194eecf2c9"
      },
      "execution_count": 6,
      "outputs": [
        {
          "output_type": "stream",
          "name": "stdout",
          "text": [
            "Looking in indexes: https://pypi.org/simple, https://us-python.pkg.dev/colab-wheels/public/simple/\n",
            "Collecting scipy==1.1.0\n",
            "  Downloading scipy-1.1.0-cp37-cp37m-manylinux1_x86_64.whl (31.2 MB)\n",
            "\u001b[K     |████████████████████████████████| 31.2 MB 1.3 MB/s \n",
            "\u001b[?25hRequirement already satisfied: numpy>=1.8.2 in /usr/local/lib/python3.7/dist-packages (from scipy==1.1.0) (1.21.6)\n",
            "Installing collected packages: scipy\n",
            "  Attempting uninstall: scipy\n",
            "    Found existing installation: scipy 1.7.3\n",
            "    Uninstalling scipy-1.7.3:\n",
            "      Successfully uninstalled scipy-1.7.3\n",
            "\u001b[31mERROR: pip's dependency resolver does not currently take into account all the packages that are installed. This behaviour is the source of the following dependency conflicts.\n",
            "pymc3 3.11.5 requires scipy<1.8.0,>=1.7.3, but you have scipy 1.1.0 which is incompatible.\n",
            "plotnine 0.8.0 requires scipy>=1.5.0, but you have scipy 1.1.0 which is incompatible.\n",
            "jaxlib 0.3.14+cuda11.cudnn805 requires scipy>=1.5, but you have scipy 1.1.0 which is incompatible.\n",
            "jax 0.3.14 requires scipy>=1.5, but you have scipy 1.1.0 which is incompatible.\u001b[0m\n",
            "Successfully installed scipy-1.1.0\n"
          ]
        }
      ]
    },
    {
      "cell_type": "code",
      "source": [
        "!python tool_patch.py --path ./model/getchu/"
      ],
      "metadata": {
        "colab": {
          "base_uri": "https://localhost:8080/"
        },
        "id": "KypTmuy1C9Ou",
        "outputId": "14024703-723a-4f7a-cc6a-72e5e6c173e0"
      },
      "execution_count": 11,
      "outputs": [
        {
          "output_type": "stream",
          "name": "stdout",
          "text": [
            "\n",
            "===============================================================================\n",
            "Interactive Image Patching Tool using Edge-Connect algorithm.\n",
            "\n",
            "\n",
            "USAGE:\n",
            "    python tool_patch.py --path <your weights directory path>\n",
            "                         --edge (optional to open edge window)\n",
            "\n",
            "\n",
            "README FIRST:\n",
            "    Two windows will show up, one for input and one for output.\n",
            "    if `--edge` arg is input, another edge window will show up.\n",
            "    [Important] Switch your typewriting into ENG first.\n",
            "\n",
            "    At first, in input window, draw black in the missing part using\n",
            "mouse left button. Then press 'n' to patch the image (once or a few times)\n",
            "For any finer touch-ups, you can press any of the keys below and draw lines on\n",
            "the areas you want. Then again press 'n' for updating the output.\n",
            "    In input window, left mouse is to draw the black mask which means the defect.\n",
            "    In edge window, left mouse is to draw the edge while right mouse is to erase the edges.\n",
            "    Press '[' and ']' to resize the brush thickness, as in PhotoShop.\n",
            "    Finally, press 's' to save the output.\n",
            "\n",
            "Key '[' - To make the brush thickness smaller\n",
            "Key ']' - To make the brush thickness larger\n",
            "Key '0' - Todo\n",
            "Key '1' - Todo\n",
            "\n",
            "Key 'n' - To patch the black part of image, just use input image\n",
            "Key 'e' - To patch the black part of image, use the input image and edit edge\n",
            "Key 'r' - To reset the setup\n",
            "Key 's' - To save the output\n",
            "Key 'q' - To quit\n",
            "===============================================================================\n",
            "\n",
            "/content/Anime-InPainting/src/config.py:8: YAMLLoadWarning: calling yaml.load() without Loader=... is deprecated, as the default Loader is unsafe. Please read https://msg.pyyaml.org/load for full details.\n",
            "  self._dict = yaml.load(self._yaml)\n",
            "load_config_demo----->\n",
            "DEVICE is: cuda\n",
            "/usr/local/lib/python3.7/dist-packages/torchvision/models/_utils.py:209: UserWarning: The parameter 'pretrained' is deprecated since 0.13 and will be removed in 0.15, please use 'weights' instead.\n",
            "  f\"The parameter '{pretrained_param}' is deprecated since 0.13 and will be removed in 0.15, \"\n",
            "/usr/local/lib/python3.7/dist-packages/torchvision/models/_utils.py:223: UserWarning: Arguments other than a weight enum or `None` for 'weights' are deprecated since 0.13 and will be removed in 0.15. The current behavior is equivalent to passing `weights=VGG19_Weights.IMAGENET1K_V1`. You can also use `weights=VGG19_Weights.DEFAULT` to get the most up-to-date weights.\n",
            "  warnings.warn(msg)\n",
            "Loading EdgeModel generator weights file: ./model/getchu/EdgeModel_gen_2109000.pth...\n",
            "Loading InpaintingModel generator weights file: ./model/getchu/InpaintingModel_gen_2074000.pth...\n",
            "Model configurations:\n",
            "---------------------------------\n",
            "MODE: 3             # 1: train, 2: test, 3: eval\n",
            "MODEL: 1            # 1: edge model, 2: inpaint model, 3: edge-inpaint model, 4: joint model\n",
            "MASK: 3             # 1: random block, 2: half, 3: external, 4: (external, random block), 5: (external, random block, half)\n",
            "EDGE: 1             # 1: canny, 2: external\n",
            "NMS: 1              # 0: no non-max-suppression, 1: applies non-max-suppression on the external edges by multiplying by Canny\n",
            "SEED: 10            # random seed\n",
            "DEVICE: 1           # 0: CPU, 1: GPU\n",
            "GPU: [0]            # list of gpu ids\n",
            "DEBUG: 1            # turns on debugging mode\n",
            "VERBOSE: 0          # turns on verbose mode in the output console\n",
            "SKIP_PHASE2: 1      # When training Inpaint model, 2nd and 3rd phases (model 2--->model 3 ) by order are needed. But we can merge 2nd phase into the 3rd one to speed up (however, lower performance).\n",
            "\n",
            "TRAIN_FLIST: ./datasets/getchu/train.flist\n",
            "VAL_FLIST: ./datasets/getchu/val.flist\n",
            "TEST_FLIST: ./datasets/getchu/test.flist\n",
            "\n",
            "TRAIN_EDGE_FLIST: ./datasets/places2_edges_train.flist\n",
            "VAL_EDGE_FLIST: ./datasets/places2_edges_val.flist\n",
            "TEST_EDGE_FLIST: ./datasets/places2_edges_test.flist\n",
            "\n",
            "TRAIN_MASK_FLIST: ./mask/testing_mask_dataset\n",
            "VAL_MASK_FLIST: ./mask/testing_mask_dataset\n",
            "TEST_MASK_FLIST: ./mask/testing_mask_dataset\n",
            "\n",
            "LR: 0.0001                    # learning rate\n",
            "D2G_LR: 0.1                   # discriminator/generator learning rate ratio\n",
            "BETA1: 0.0                    # adam optimizer beta1\n",
            "BETA2: 0.9                    # adam optimizer beta2\n",
            "BATCH_SIZE: 8                 # input batch size for training\n",
            "INPUT_SIZE: 128               # input image size for training 0 for original size\n",
            "SIGMA: 1.5                      # standard deviation of the Gaussian filter used in Canny edge detector (0: random, -1: no edge)\n",
            "MAX_ITERS: 2e7                # maximum number of iterations to train the model\n",
            "\n",
            "EDGE_THRESHOLD: 0.5           # edge detection threshold\n",
            "L1_LOSS_WEIGHT: 1             # l1 loss weight\n",
            "FM_LOSS_WEIGHT: 10            # feature-matching loss weight\n",
            "STYLE_LOSS_WEIGHT: 1          # style loss weight\n",
            "CONTENT_LOSS_WEIGHT: 1        # perceptual loss weight\n",
            "INPAINT_ADV_LOSS_WEIGHT: 0.01 # adversarial loss weight\n",
            "\n",
            "GAN_LOSS: nsgan               # nsgan | lsgan | hinge\n",
            "GAN_POOL_SIZE: 0              # fake images pool size\n",
            "\n",
            "SAVE_INTERVAL: 30           # how many iterations to wait before saving model (0: never)\n",
            "SAMPLE_INTERVAL: 200         # how many iterations to wait before sampling (0: never)\n",
            "SAMPLE_SIZE: 12               # number of images to sample\n",
            "EVAL_INTERVAL: 0              # how many iterations to wait before model evaluation (0: never)\n",
            "LOG_INTERVAL: 1000              # how many iterations to wait before logging training status (0: never)\n",
            "PRINT_INTERVAL: 20            # how many iterations to wait before terminal prints training status (0: never)\n",
            "\n",
            "---------------------------------\n",
            "\n",
            "model prepared.\n",
            "Traceback (most recent call last):\n",
            "  File \"tool_patch.py\", line 200, in <module>\n",
            "    image = fileopenbox(msg='Select a image', title='Select', filetypes=[['*.png', '*.jpg', '*.jpeg', 'Image Files']])\n",
            "  File \"/usr/local/lib/python3.7/dist-packages/easygui/boxes/fileopen_box.py\", line 85, in fileopenbox\n",
            "    localRoot = tk.Tk()\n",
            "  File \"/usr/lib/python3.7/tkinter/__init__.py\", line 2023, in __init__\n",
            "    self.tk = _tkinter.create(screenName, baseName, className, interactive, wantobjects, useTk, sync, use)\n",
            "_tkinter.TclError: no display name and no $DISPLAY environment variable\n"
          ]
        }
      ]
    },
    {
      "cell_type": "code",
      "source": [],
      "metadata": {
        "id": "Rlm7KtdtILFD"
      },
      "execution_count": null,
      "outputs": []
    }
  ]
}