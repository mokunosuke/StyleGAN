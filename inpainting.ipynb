{
  "nbformat": 4,
  "nbformat_minor": 0,
  "metadata": {
    "colab": {
      "name": "Untitled0.ipynb",
      "provenance": [],
      "authorship_tag": "ABX9TyOhyZzy0VVIGpE/h7YiPX27",
      "include_colab_link": true
    },
    "kernelspec": {
      "name": "python3",
      "display_name": "Python 3"
    },
    "language_info": {
      "name": "python"
    }
  },
  "cells": [
    {
      "cell_type": "markdown",
      "metadata": {
        "id": "view-in-github",
        "colab_type": "text"
      },
      "source": [
        "<a href=\"https://colab.research.google.com/github/mokunosuke/StyleGAN/blob/main/inpainting.ipynb\" target=\"_parent\"><img src=\"https://colab.research.google.com/assets/colab-badge.svg\" alt=\"Open In Colab\"/></a>"
      ]
    },
    {
      "cell_type": "code",
      "execution_count": 3,
      "metadata": {
        "colab": {
          "base_uri": "https://localhost:8080/"
        },
        "id": "MVgo1m_0-rB1",
        "outputId": "977a088e-f136-4c92-c391-8b0af9d5031a"
      },
      "outputs": [
        {
          "output_type": "stream",
          "name": "stdout",
          "text": [
            "fatal: destination path 'Anime-InPainting' already exists and is not an empty directory.\n"
          ]
        }
      ],
      "source": [
        "!git clone https://github.com/youyuge34/Anime-InPainting.git\n"
      ]
    },
    {
      "cell_type": "code",
      "source": [
        "!pwd"
      ],
      "metadata": {
        "colab": {
          "base_uri": "https://localhost:8080/"
        },
        "id": "OTh8pbgT_ALK",
        "outputId": "d886d5b8-277d-429e-ffcb-3f4c4d207ac9"
      },
      "execution_count": 4,
      "outputs": [
        {
          "output_type": "stream",
          "name": "stdout",
          "text": [
            "/content\n"
          ]
        }
      ]
    },
    {
      "cell_type": "code",
      "source": [
        "cd Anime*\n"
      ],
      "metadata": {
        "colab": {
          "base_uri": "https://localhost:8080/"
        },
        "id": "JtAkEl4W_BS6",
        "outputId": "dc12d52c-a449-4de7-ced9-cf88034458c7"
      },
      "execution_count": 5,
      "outputs": [
        {
          "output_type": "stream",
          "name": "stdout",
          "text": [
            "[Errno 2] No such file or directory: 'Anime*'\n",
            "/content\n"
          ]
        }
      ]
    },
    {
      "cell_type": "code",
      "source": [
        "cd Anime-InPainting/"
      ],
      "metadata": {
        "colab": {
          "base_uri": "https://localhost:8080/"
        },
        "id": "chChO-SQ_HbS",
        "outputId": "1ea8f098-6890-4e67-8138-a8e921c9b3bc"
      },
      "execution_count": 6,
      "outputs": [
        {
          "output_type": "stream",
          "name": "stdout",
          "text": [
            "/content/Anime-InPainting\n"
          ]
        }
      ]
    },
    {
      "cell_type": "code",
      "source": [
        "!pip install -r requirements.txt\n"
      ],
      "metadata": {
        "colab": {
          "base_uri": "https://localhost:8080/"
        },
        "id": "4N571aeq_PcH",
        "outputId": "d5b99ab9-e061-44fa-ce75-7f68661ac2f9"
      },
      "execution_count": 9,
      "outputs": [
        {
          "output_type": "stream",
          "name": "stdout",
          "text": [
            "Looking in indexes: https://pypi.org/simple, https://us-python.pkg.dev/colab-wheels/public/simple/\n",
            "Collecting numpy~=1.14.3\n",
            "  Using cached numpy-1.14.6-cp37-cp37m-manylinux1_x86_64.whl (13.8 MB)\n",
            "Collecting scipy~=1.0.1\n",
            "  Using cached scipy-1.0.1.tar.gz (15.5 MB)\n",
            "Requirement already satisfied: future~=0.16.0 in /usr/local/lib/python3.7/dist-packages (from -r requirements.txt (line 3)) (0.16.0)\n",
            "Collecting matplotlib~=2.2.2\n",
            "  Using cached matplotlib-2.2.5-cp37-cp37m-manylinux1_x86_64.whl (12.8 MB)\n",
            "Collecting pillow~=5.0.0\n",
            "  Using cached Pillow-5.0.0.tar.gz (14.2 MB)\n",
            "Collecting opencv-python~=3.4.0\n",
            "  Using cached opencv_python-3.4.18.65-cp36-abi3-manylinux_2_17_x86_64.manylinux2014_x86_64.whl (58.4 MB)\n",
            "Collecting scikit-image~=0.14.0\n",
            "  Using cached scikit_image-0.14.5-cp37-cp37m-manylinux1_x86_64.whl (25.4 MB)\n",
            "Collecting pyaml\n",
            "  Using cached pyaml-21.10.1-py2.py3-none-any.whl (24 kB)\n",
            "Collecting easygui\n",
            "  Using cached easygui-0.98.3-py2.py3-none-any.whl (92 kB)\n",
            "Requirement already satisfied: cycler>=0.10 in /usr/local/lib/python3.7/dist-packages (from matplotlib~=2.2.2->-r requirements.txt (line 4)) (0.11.0)\n",
            "Requirement already satisfied: pyparsing!=2.0.4,!=2.1.2,!=2.1.6,>=2.0.1 in /usr/local/lib/python3.7/dist-packages (from matplotlib~=2.2.2->-r requirements.txt (line 4)) (3.0.9)\n",
            "Requirement already satisfied: pytz in /usr/local/lib/python3.7/dist-packages (from matplotlib~=2.2.2->-r requirements.txt (line 4)) (2022.2.1)\n",
            "Requirement already satisfied: six>=1.10 in /usr/local/lib/python3.7/dist-packages (from matplotlib~=2.2.2->-r requirements.txt (line 4)) (1.15.0)\n",
            "Requirement already satisfied: python-dateutil>=2.1 in /usr/local/lib/python3.7/dist-packages (from matplotlib~=2.2.2->-r requirements.txt (line 4)) (2.8.2)\n",
            "Requirement already satisfied: kiwisolver>=1.0.1 in /usr/local/lib/python3.7/dist-packages (from matplotlib~=2.2.2->-r requirements.txt (line 4)) (1.4.4)\n",
            "Requirement already satisfied: PyWavelets>=0.4.0 in /usr/local/lib/python3.7/dist-packages (from scikit-image~=0.14.0->-r requirements.txt (line 7)) (1.3.0)\n",
            "Requirement already satisfied: networkx>=1.8 in /usr/local/lib/python3.7/dist-packages (from scikit-image~=0.14.0->-r requirements.txt (line 7)) (2.6.3)\n",
            "Requirement already satisfied: cloudpickle>=0.2.1 in /usr/local/lib/python3.7/dist-packages (from scikit-image~=0.14.0->-r requirements.txt (line 7)) (1.5.0)\n",
            "Requirement already satisfied: typing-extensions in /usr/local/lib/python3.7/dist-packages (from kiwisolver>=1.0.1->matplotlib~=2.2.2->-r requirements.txt (line 4)) (4.1.1)\n",
            "Collecting PyWavelets>=0.4.0\n",
            "  Using cached PyWavelets-1.2.0-cp37-cp37m-manylinux_2_5_x86_64.manylinux1_x86_64.whl (6.1 MB)\n",
            "  Using cached PyWavelets-1.1.1-cp37-cp37m-manylinux1_x86_64.whl (4.4 MB)\n",
            "Requirement already satisfied: PyYAML in /usr/local/lib/python3.7/dist-packages (from pyaml->-r requirements.txt (line 8)) (6.0)\n",
            "Building wheels for collected packages: scipy, pillow\n",
            "  Building wheel for scipy (setup.py) ... \u001b[?25l\u001b[?25hcanceled\u001b[31mERROR: Operation cancelled by user\u001b[0m\n"
          ]
        }
      ]
    },
    {
      "cell_type": "code",
      "source": [
        "tool_patch.py --path model/getchu/"
      ],
      "metadata": {
        "colab": {
          "base_uri": "https://localhost:8080/",
          "height": 138
        },
        "id": "zZMwEKDn_XQd",
        "outputId": "0d7e98aa-19f9-447f-f099-294caf305cc1"
      },
      "execution_count": 11,
      "outputs": [
        {
          "output_type": "error",
          "ename": "SyntaxError",
          "evalue": "ignored",
          "traceback": [
            "\u001b[0;36m  File \u001b[0;32m\"<ipython-input-11-f4770898629d>\"\u001b[0;36m, line \u001b[0;32m1\u001b[0m\n\u001b[0;31m    tool_patch.py --path model/getchu/\u001b[0m\n\u001b[0m                             ^\u001b[0m\n\u001b[0;31mSyntaxError\u001b[0m\u001b[0;31m:\u001b[0m invalid syntax\n"
          ]
        }
      ]
    },
    {
      "cell_type": "code",
      "source": [
        "!python tool_patch.py --path model/getchu/"
      ],
      "metadata": {
        "colab": {
          "base_uri": "https://localhost:8080/"
        },
        "id": "ASNZxuy2ATMn",
        "outputId": "1ed5522c-769e-4f3e-9a93-fcf2ad24a0aa"
      },
      "execution_count": 21,
      "outputs": [
        {
          "output_type": "stream",
          "name": "stdout",
          "text": [
            "\n",
            "===============================================================================\n",
            "Interactive Image Patching Tool using Edge-Connect algorithm.\n",
            "\n",
            "\n",
            "USAGE:\n",
            "    python tool_patch.py --path <your weights directory path>\n",
            "                         --edge (optional to open edge window)\n",
            "\n",
            "\n",
            "README FIRST:\n",
            "    Two windows will show up, one for input and one for output.\n",
            "    if `--edge` arg is input, another edge window will show up.\n",
            "    [Important] Switch your typewriting into ENG first.\n",
            "\n",
            "    At first, in input window, draw black in the missing part using\n",
            "mouse left button. Then press 'n' to patch the image (once or a few times)\n",
            "For any finer touch-ups, you can press any of the keys below and draw lines on\n",
            "the areas you want. Then again press 'n' for updating the output.\n",
            "    In input window, left mouse is to draw the black mask which means the defect.\n",
            "    In edge window, left mouse is to draw the edge while right mouse is to erase the edges.\n",
            "    Press '[' and ']' to resize the brush thickness, as in PhotoShop.\n",
            "    Finally, press 's' to save the output.\n",
            "\n",
            "Key '[' - To make the brush thickness smaller\n",
            "Key ']' - To make the brush thickness larger\n",
            "Key '0' - Todo\n",
            "Key '1' - Todo\n",
            "\n",
            "Key 'n' - To patch the black part of image, just use input image\n",
            "Key 'e' - To patch the black part of image, use the input image and edit edge\n",
            "Key 'r' - To reset the setup\n",
            "Key 's' - To save the output\n",
            "Key 'q' - To quit\n",
            "===============================================================================\n",
            "\n",
            "Traceback (most recent call last):\n",
            "  File \"tool_patch.py\", line 196, in <module>\n",
            "    config = check_load(args)\n",
            "  File \"tool_patch.py\", line 154, in check_load\n",
            "    config = Config(config_path)\n",
            "  File \"/content/Anime-InPainting/src/config.py\", line 8, in __init__\n",
            "    self._dict = yaml.load(self._yaml)\n",
            "TypeError: load() missing 1 required positional argument: 'Loader'\n"
          ]
        }
      ]
    },
    {
      "cell_type": "code",
      "source": [
        "!pip install easygui\n"
      ],
      "metadata": {
        "colab": {
          "base_uri": "https://localhost:8080/"
        },
        "id": "1vKjtp9nCcxY",
        "outputId": "e66ccd56-da40-4368-e218-6e9ed459f2ad"
      },
      "execution_count": 18,
      "outputs": [
        {
          "output_type": "stream",
          "name": "stdout",
          "text": [
            "Looking in indexes: https://pypi.org/simple, https://us-python.pkg.dev/colab-wheels/public/simple/\n",
            "Collecting easygui\n",
            "  Using cached easygui-0.98.3-py2.py3-none-any.whl (92 kB)\n",
            "Installing collected packages: easygui\n",
            "Successfully installed easygui-0.98.3\n"
          ]
        }
      ]
    },
    {
      "cell_type": "code",
      "source": [
        "!pip install scipy==1.1.0\n"
      ],
      "metadata": {
        "colab": {
          "base_uri": "https://localhost:8080/"
        },
        "id": "N-K90qA8Cyzj",
        "outputId": "4e63bc86-5ee9-4827-8ad6-5cecea324efa"
      },
      "execution_count": 20,
      "outputs": [
        {
          "output_type": "stream",
          "name": "stdout",
          "text": [
            "Looking in indexes: https://pypi.org/simple, https://us-python.pkg.dev/colab-wheels/public/simple/\n",
            "Collecting scipy==1.1.0\n",
            "  Downloading scipy-1.1.0-cp37-cp37m-manylinux1_x86_64.whl (31.2 MB)\n",
            "\u001b[K     |████████████████████████████████| 31.2 MB 231 kB/s \n",
            "\u001b[?25hRequirement already satisfied: numpy>=1.8.2 in /usr/local/lib/python3.7/dist-packages (from scipy==1.1.0) (1.21.6)\n",
            "Installing collected packages: scipy\n",
            "  Attempting uninstall: scipy\n",
            "    Found existing installation: scipy 1.7.3\n",
            "    Uninstalling scipy-1.7.3:\n",
            "      Successfully uninstalled scipy-1.7.3\n",
            "\u001b[31mERROR: pip's dependency resolver does not currently take into account all the packages that are installed. This behaviour is the source of the following dependency conflicts.\n",
            "pymc3 3.11.5 requires scipy<1.8.0,>=1.7.3, but you have scipy 1.1.0 which is incompatible.\n",
            "plotnine 0.8.0 requires scipy>=1.5.0, but you have scipy 1.1.0 which is incompatible.\n",
            "jaxlib 0.3.14+cuda11.cudnn805 requires scipy>=1.5, but you have scipy 1.1.0 which is incompatible.\n",
            "jax 0.3.14 requires scipy>=1.5, but you have scipy 1.1.0 which is incompatible.\u001b[0m\n",
            "Successfully installed scipy-1.1.0\n"
          ]
        }
      ]
    },
    {
      "cell_type": "code",
      "source": [],
      "metadata": {
        "id": "KypTmuy1C9Ou"
      },
      "execution_count": null,
      "outputs": []
    }
  ]
}